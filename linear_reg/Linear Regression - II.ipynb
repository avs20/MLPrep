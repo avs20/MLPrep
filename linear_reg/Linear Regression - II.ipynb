{
 "cells": [
  {
   "cell_type": "markdown",
   "metadata": {},
   "source": [
    "From the previous class, we saw what is linear regression. \n",
    "\n",
    "How can we calculate the parameters (w0, w1) or (m,c) of linear regression \n",
    "\n",
    "using Analytically and using Gradient Descent. \n",
    "\n",
    "The complete code is below "
   ]
  },
  {
   "cell_type": "code",
   "execution_count": 1,
   "metadata": {},
   "outputs": [
    {
     "name": "stdout",
     "output_type": "stream",
     "text": [
      "Starting gradient descent at b = 0, m = 0, error = 5565.107834483211\n",
      "Running...\n",
      "After 1000 iterations b = 0.08893651993741346, m = 1.4777440851894448, error = 112.61481011613473\n"
     ]
    },
    {
     "data": {
      "image/png": "[encoded data removed]",
      "text/plain": [
       "<Figure size 432x288 with 1 Axes>"
      ]
     },
     "metadata": {},
     "output_type": "display_data"
    }
   ],
   "source": [
    "#The optimal values of m and b can be actually calculated with way less effort than doing a linear regression. \n",
    "#this is just to demonstrate gradient descent\n",
    "\n",
    "from numpy import *\n",
    "\n",
    "# y = mx + b\n",
    "# m is slope, b is y-intercept\n",
    "def compute_error_for_line_given_points(b, m, points):\n",
    "    totalError = 0\n",
    "    for i in range(0, len(points)):\n",
    "        x = points[i, 0]\n",
    "        y = points[i, 1]\n",
    "        totalError += (y - (m * x + b)) ** 2\n",
    "    return totalError / float(len(points))\n",
    "\n",
    "def step_gradient(b_current, m_current, points, learningRate):\n",
    "    b_gradient = 0\n",
    "    m_gradient = 0\n",
    "    N = float(len(points))\n",
    "    for i in range(0, len(points)):\n",
    "        x = points[i, 0]\n",
    "        y = points[i, 1]\n",
    "        b_gradient += -(2/N) * (y - ((m_current * x) + b_current))\n",
    "        m_gradient += -(2/N) * x * (y - ((m_current * x) + b_current))\n",
    "    new_b = b_current - (learningRate * b_gradient)\n",
    "    new_m = m_current - (learningRate * m_gradient)\n",
    "    return [new_b, new_m]\n",
    "\n",
    "def gradient_descent_runner(points, starting_b, starting_m, learning_rate, num_iterations):\n",
    "    b = starting_b\n",
    "    m = starting_m\n",
    "    for i in range(num_iterations):\n",
    "        b, m = step_gradient(b, m, array(points), learning_rate)\n",
    "    return [b, m]\n",
    "\n",
    "def run():\n",
    "    points = genfromtxt(\"linear_regression_live/data.csv\", delimiter=\",\")\n",
    "    learning_rate = 0.0001\n",
    "    initial_b = 0 # initial y-intercept guess\n",
    "    initial_m = 0 # initial slope guess\n",
    "    num_iterations = 1000\n",
    "    print(\"Starting gradient descent at b = {0}, m = {1}, error = {2}\".format(initial_b, initial_m, compute_error_for_line_given_points(initial_b, initial_m, points)))\n",
    "    print(\"Running...\")\n",
    "    [b, m] = gradient_descent_runner(points, initial_b, initial_m, learning_rate, num_iterations)\n",
    "    print(\"After {0} iterations b = {1}, m = {2}, error = {3}\".format(num_iterations, b, m, compute_error_for_line_given_points(b, m, points)))\n",
    "    \n",
    "    ### plotting code\n",
    "    import pandas as pd \n",
    "    import matplotlib.pyplot as plt\n",
    "    %matplotlib inline\n",
    "\n",
    "    data = pd.read_csv('linear_regression_live/data.csv', header=None, names=[\"x\",\"y\"])\n",
    "    data.head()\n",
    "    data.plot(kind=\"scatter\", x=\"x\", y=\"y\")\n",
    "    import numpy as np \n",
    "    axes = plt.gca()\n",
    "    x_vals = np.array(axes.get_xlim())\n",
    "    y_vals = b + m * x_vals\n",
    "    plt.plot(x_vals, y_vals, '--', c=\"r\")\n",
    "    \n",
    "\n",
    "if __name__ == '__main__':\n",
    "    run()"
   ]
  },
  {
   "cell_type": "markdown",
   "metadata": {},
   "source": [
    "Keep in mind that this is just for a case where we have one independent (age) variable and 1 dependent (income) variable. \n",
    "\n",
    "Or our equation is just like \n",
    "\n",
    "```\n",
    "y = w0 + w1x \n",
    "```\n",
    "\n",
    "So we have only 2 parameters. To calculate for that we, had to get the gradient in each parameter and then update our parameters values using gradient descent. \n",
    "\n",
    "\n",
    "Suppose life is not easy and income is not dependent on age. \n",
    "It is dependent on many factors like age, education, college, median family income or other parameters. \n",
    "\n",
    "The our equation will look like\n",
    "\n",
    "```\n",
    "income = w0 + w1 * age + w2 * education + w3 * college + w4 * father_income + ....\n",
    "```\n",
    "\n",
    "There are 2 things to observe here. \n",
    "\n",
    "1. This equation is still linear. There are no quadratic / cubin / polynomial terms. All the independent variables are in the power of 1. So this will still be linear and instead of a line, we will find a plane. \n",
    "\n",
    "2. Since we have so many parameters now, so we need to identify the gradient in respect of all parameters. We thought in 2 it was difficult. What will happen with this 5. \n",
    "\n",
    "Actually, if we want, we can do that, but it's not in the scope of the course. You can look at any good machine learning book like ISLR and you will find the proof, on how to do that. \n",
    "\n"
   ]
  },
  {
   "cell_type": "markdown",
   "metadata": {},
   "source": [
    "What we see is that we understand how things work? \n",
    "\n",
    "1. What is independent and dependent variable?\n",
    "2. What is gradient descent?\n",
    "3. How it works and get's us to loss function minimization?"
   ]
  },
  {
   "cell_type": "markdown",
   "metadata": {},
   "source": [
    "So the question comes, do we need to do all this everytime. The answer is **NO**. There are many libraries, which do all the heavy work for us and we just need to pass the data and the requirment of what we want. \n",
    "\n",
    "They will do everything, from applying gradient descent to get the parameters and it doesn't matter how many of them are there. \n"
   ]
  },
  {
   "cell_type": "markdown",
   "metadata": {},
   "source": [
    "In python this is done by **sk-learn** library. It has all the functions to do machine learning. \n",
    "\n",
    "First let's see what is sk-learn. \n",
    "\n",
    "This is the website  https://scikit-learn.org/stable/\n",
    "\n",
    "![](sklearn.png)"
   ]
  },
  {
   "cell_type": "markdown",
   "metadata": {},
   "source": [
    "So it has many of the algorithms. Now why should you use. Because of the code below"
   ]
  },
  {
   "cell_type": "code",
   "execution_count": null,
   "metadata": {
    "collapsed": true
   },
   "outputs": [],
   "source": [
    "from sklearn import linear_model \n",
    "import pandas as pd\n",
    "points = pd.read_csv('linear_regression_live/data.csv', header=None, names=[\"x\",\"y\"])\n",
    "\n",
    "# print(points)\n",
    "X = points.x.values.reshape(-1,1)\n",
    "Y = points.y"
   ]
  },
  {
   "cell_type": "code",
   "execution_count": 27,
   "metadata": {},
   "outputs": [
    {
     "name": "stdout",
     "output_type": "stream",
     "text": [
      "[1.32243102] 7.991020982270399\n"
     ]
    }
   ],
   "source": [
    "## Actual linear regression. \n",
    "\n",
    "reg = linear_model.LinearRegression()\n",
    "reg.fit(X,Y)\n",
    "print(reg.coef_, reg.intercept_)"
   ]
  },
  {
   "cell_type": "code",
   "execution_count": 29,
   "metadata": {},
   "outputs": [
    {
     "data": {
      "text/plain": [
       "[<matplotlib.lines.Line2D at 0x1a1f4ca048>]"
      ]
     },
     "execution_count": 29,
     "metadata": {},
     "output_type": "execute_result"
    },
    {
     "data": {
      "image/png": "[encoded data removed]",
      "text/plain": [
       "<Figure size 432x288 with 1 Axes>"
      ]
     },
     "metadata": {},
     "output_type": "display_data"
    }
   ],
   "source": [
    "import matplotlib.pyplot as plt\n",
    "%matplotlib inline\n",
    "data = pd.read_csv('linear_regression_live/data.csv', header=None, names=[\"x\",\"y\"])\n",
    "data.head()\n",
    "data.plot(kind=\"scatter\", x=\"x\", y=\"y\")\n",
    "axes = plt.gca()\n",
    "x_vals = np.array(axes.get_xlim())\n",
    "y_vals = reg.coef_ * x_vals + reg.intercept_\n",
    "plt.plot(x_vals, y_vals, '--', c=\"r\")"
   ]
  },
  {
   "cell_type": "markdown",
   "metadata": {},
   "source": [
    "These are the 3 lines which did all the work \n",
    "\n",
    "```\n",
    "## Actual linear regression. \n",
    "\n",
    "reg = linear_model.LinearRegression()\n",
    "reg.fit(X,Y)\n",
    "print(reg.coef_, reg.intercept_)\n",
    "```\n",
    "\n",
    "Also, 1 line is about printing. From 45 lines to 3 lines. \n",
    "\n",
    "That's the power of sklearn. This is how work is done in real world. We use libraries to help us reduce our work. \n",
    "\n",
    "It doesn't mean that what we did yesterday for 2 hours is wasted. It's not. If you don't know that , you can find the line but you will find situations where line will not work and then you need to go to basics. "
   ]
  },
  {
   "cell_type": "markdown",
   "metadata": {},
   "source": [
    "So that is the power of sk-learn. let's break each line 1 by 1 "
   ]
  },
  {
   "cell_type": "code",
   "execution_count": 30,
   "metadata": {
    "collapsed": true
   },
   "outputs": [],
   "source": [
    "from sklearn import linear_model \n",
    "\n"
   ]
  },
  {
   "cell_type": "markdown",
   "metadata": {},
   "source": [
    "The above line we are importing the linear_model module of sklearn library. \n",
    "`linear_model` module contains many algorithms which are linear in nature, e.g. Linear Regression, Logistic Regression and others. \n",
    "\n",
    "So we just imported the linear_model module. "
   ]
  },
  {
   "cell_type": "code",
   "execution_count": 31,
   "metadata": {
    "collapsed": true
   },
   "outputs": [],
   "source": [
    "reg = linear_model.LinearRegression()\n",
    "\n"
   ]
  },
  {
   "cell_type": "markdown",
   "metadata": {},
   "source": [
    "Here we are making an object of LinearRegression() class. sk-learn has a class for each of the algorithms present and some other helper classes. Since we are learning Linear Regression so we made an object of that class. "
   ]
  },
  {
   "cell_type": "code",
   "execution_count": 32,
   "metadata": {},
   "outputs": [
    {
     "data": {
      "text/plain": [
       "LinearRegression(copy_X=True, fit_intercept=True, n_jobs=None,\n",
       "         normalize=False)"
      ]
     },
     "execution_count": 32,
     "metadata": {},
     "output_type": "execute_result"
    }
   ],
   "source": [
    "reg.fit(X,Y)\n",
    "\n"
   ]
  },
  {
   "cell_type": "markdown",
   "metadata": {},
   "source": [
    "This is the important part of what we are doing. \n",
    "\n",
    "First X and y \n",
    "\n",
    "**X :  This is the input data in numpy array format. By input data I mean `age`. This has to be 2-D array format.**\n",
    "\n",
    "**Y : This is the output data in the numpy array format. E.g. `Income`**\n",
    "\n",
    "\n",
    "If we are doing the problem of only age and income and suppose there are 20 points \n",
    "\n",
    "**X** will be of shape **(20,1)**\n",
    "**Y** will be of shape **(20,) 1-D** \n",
    "\n",
    "Suppose we take a different problem finding income by many variable like age, education, family_income, college \n",
    "So we have 4 variables, so \n",
    "\n",
    "**X** will be of shape **(20,4)**\n",
    "**Y** will be of shape **(20,)**\n",
    "\n",
    "**So X will be in 2D always, and Y will be in 1-D for linear regression. **"
   ]
  },
  {
   "cell_type": "markdown",
   "metadata": {},
   "source": [
    "# Training  `fit()`\n",
    "\n",
    "What the fit function does is it takes the data and then trains using the algorithm provided to fit the line. \n",
    "\n",
    "We want the line's parameters. So .fit applies gradient descent on the data and calculates those values. \n",
    "\n",
    "This fit is common for all the algorithms in sklearn. No matter what algorithm you use you will always find the **fit()** method in that object. That's why sklearn is simple. The syntax is same for all the algorithms. \n",
    "\n",
    "Training the data is also called fitting the data is also called model training. \n",
    "\n",
    "All 3 are used interchangably. \n"
   ]
  },
  {
   "cell_type": "code",
   "execution_count": 34,
   "metadata": {},
   "outputs": [
    {
     "name": "stdout",
     "output_type": "stream",
     "text": [
      "[1.32243102] 7.991020982270399\n"
     ]
    }
   ],
   "source": [
    "print(reg.coef_, reg.intercept_)\n",
    "\n"
   ]
  },
  {
   "cell_type": "markdown",
   "metadata": {},
   "source": [
    "### Results\n",
    "\n",
    "Once the data is trained or gradient descent is run then we get the results. We get the results in 2 parts \n",
    "\n",
    "**coef__** : This contains the coefficients (not the intercept for all the variables). Since we have only 1 variable so we have 1 coefficient. If have multiple like `college, family, education` We will have more. \n",
    "\n",
    "**intercept__** : This is the intercept or **C** or **w0**. \n",
    "\n"
   ]
  },
  {
   "cell_type": "markdown",
   "metadata": {},
   "source": [
    "### Process \n",
    "\n",
    "In simple words we have 3 tasks to do with sklearn\n",
    "\n",
    "1. Load and pre process the data for input to algorithm \n",
    "2. Train the model / Fit the data \n",
    "3. View Results. "
   ]
  },
  {
   "cell_type": "code",
   "execution_count": null,
   "metadata": {
    "collapsed": true
   },
   "outputs": [],
   "source": []
  }
 ],
 "metadata": {
  "kernelspec": {
   "display_name": "Python 3",
   "language": "python",
   "name": "python3"
  },
  "language_info": {
   "codemirror_mode": {
    "name": "ipython",
    "version": 3
   },
   "file_extension": ".py",
   "mimetype": "text/x-python",
   "name": "python",
   "nbconvert_exporter": "python",
   "pygments_lexer": "ipython3",
   "version": "3.5.6"
  },
  "toc": {
   "base_numbering": 1,
   "nav_menu": {},
   "number_sections": true,
   "sideBar": true,
   "skip_h1_title": false,
   "title_cell": "Table of Contents",
   "title_sidebar": "Contents",
   "toc_cell": false,
   "toc_position": {},
   "toc_section_display": true,
   "toc_window_display": false
  }
 },
 "nbformat": 4,
 "nbformat_minor": 2
}
