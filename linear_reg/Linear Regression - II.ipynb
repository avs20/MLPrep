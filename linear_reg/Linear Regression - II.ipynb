{
 "cells": [
  {
   "cell_type": "markdown",
   "metadata": {},
   "source": [
    "From the previous class, we saw what is linear regression. \n",
    "\n",
    "How can we calculate the parameters (w0, w1) or (m,c) of linear regression \n",
    "\n",
    "using Analytically and using Gradient Descent. \n",
    "\n",
    "The complete code is below "
   ]
  },
  {
   "cell_type": "code",
   "execution_count": 1,
   "metadata": {},
   "outputs": [
    {
     "name": "stdout",
     "output_type": "stream",
     "text": [
      "Starting gradient descent at b = 0, m = 0, error = 5565.107834483211\n",
      "Running...\n",
      "After 1000 iterations b = 0.08893651993741346, m = 1.4777440851894448, error = 112.61481011613473\n"
     ]
    },
    {
     "data": {
      "image/png": "[encoded data removed]",
      "text/plain": [
       "<Figure size 432x288 with 1 Axes>"
      ]
     },
     "metadata": {},
     "output_type": "display_data"
    }
   ],
   "source": [
    "#The optimal values of m and b can be actually calculated with way less effort than doing a linear regression. \n",
    "#this is just to demonstrate gradient descent\n",
    "\n",
    "from numpy import *\n",
    "\n",
    "# y = mx + b\n",
    "# m is slope, b is y-intercept\n",
    "def compute_error_for_line_given_points(b, m, points):\n",
    "    totalError = 0\n",
    "    for i in range(0, len(points)):\n",
    "        x = points[i, 0]\n",
    "        y = points[i, 1]\n",
    "        totalError += (y - (m * x + b)) ** 2\n",
    "    return totalError / float(len(points))\n",
    "\n",
    "def step_gradient(b_current, m_current, points, learningRate):\n",
    "    b_gradient = 0\n",
    "    m_gradient = 0\n",
    "    N = float(len(points))\n",
    "    for i in range(0, len(points)):\n",
    "        x = points[i, 0]\n",
    "        y = points[i, 1]\n",
    "        b_gradient += -(2/N) * (y - ((m_current * x) + b_current))\n",
    "        m_gradient += -(2/N) * x * (y - ((m_current * x) + b_current))\n",
    "    new_b = b_current - (learningRate * b_gradient)\n",
    "    new_m = m_current - (learningRate * m_gradient)\n",
    "    return [new_b, new_m]\n",
    "\n",
    "def gradient_descent_runner(points, starting_b, starting_m, learning_rate, num_iterations):\n",
    "    b = starting_b\n",
    "    m = starting_m\n",
    "    for i in range(num_iterations):\n",
    "        b, m = step_gradient(b, m, array(points), learning_rate)\n",
    "    return [b, m]\n",
    "\n",
    "def run():\n",
    "    points = genfromtxt(\"linear_regression_live/data.csv\", delimiter=\",\")\n",
    "    learning_rate = 0.0001\n",
    "    initial_b = 0 # initial y-intercept guess\n",
    "    initial_m = 0 # initial slope guess\n",
    "    num_iterations = 1000\n",
    "    print(\"Starting gradient descent at b = {0}, m = {1}, error = {2}\".format(initial_b, initial_m, compute_error_for_line_given_points(initial_b, initial_m, points)))\n",
    "    print(\"Running...\")\n",
    "    [b, m] = gradient_descent_runner(points, initial_b, initial_m, learning_rate, num_iterations)\n",
    "    print(\"After {0} iterations b = {1}, m = {2}, error = {3}\".format(num_iterations, b, m, compute_error_for_line_given_points(b, m, points)))\n",
    "    \n",
    "    ### plotting code\n",
    "    import pandas as pd \n",
    "    import matplotlib.pyplot as plt\n",
    "    %matplotlib inline\n",
    "\n",
    "    data = pd.read_csv('linear_regression_live/data.csv', header=None, names=[\"x\",\"y\"])\n",
    "    data.head()\n",
    "    data.plot(kind=\"scatter\", x=\"x\", y=\"y\")\n",
    "    import numpy as np \n",
    "    axes = plt.gca()\n",
    "    x_vals = np.array(axes.get_xlim())\n",
    "    y_vals = b + m * x_vals\n",
    "    plt.plot(x_vals, y_vals, '--', c=\"r\")\n",
    "    \n",
    "\n",
    "if __name__ == '__main__':\n",
    "    run()"
   ]
  },
  {
   "cell_type": "markdown",
   "metadata": {},
   "source": [
    "Keep in mind that this is just for a case where we have one independent (age) variable and 1 dependent (income) variable. \n",
    "\n",
    "Or our equation is just like \n",
    "\n",
    "```\n",
    "y = w0 + w1x \n",
    "```\n",
    "\n",
    "So we have only 2 parameters. To calculate for that we, had to get the gradient in each parameter and then update our parameters values using gradient descent. \n",
    "\n",
    "\n",
    "Suppose life is not easy and income is not dependent on age. \n",
    "It is dependent on many factors like age, education, college, median family income or other parameters. \n",
    "\n",
    "The our equation will look like\n",
    "\n",
    "```\n",
    "income = w0 + w1 * age + w2 * education + w3 * college + w4 * father_income + ....\n",
    "```\n",
    "\n",
    "There are 2 things to observe here. \n",
    "\n",
    "1. This equation is still linear. There are no quadratic / cubin / polynomial terms. All the independent variables are in the power of 1. So this will still be linear and instead of a line, we will find a plane. \n",
    "\n",
    "2. Since we have so many parameters now, so we need to identify the gradient in respect of all parameters. We thought in 2 it was difficult. What will happen with this 5. \n",
    "\n",
    "Actually, if we want, we can do that, but it's not in the scope of the course. You can look at any good machine learning book like ISLR and you will find the proof, on how to do that. \n",
    "\n"
   ]
  },
  {
   "cell_type": "markdown",
   "metadata": {},
   "source": [
    "What we see is that we understand how things work? \n",
    "\n",
    "1. What is independent and dependent variable?\n",
    "2. What is gradient descent?\n",
    "3. How it works and get's us to loss function minimization?"
   ]
  },
  {
   "cell_type": "markdown",
   "metadata": {},
   "source": [
    "So the question comes, do we need to do all this everytime. The answer is **NO**. There are many libraries, which do all the heavy work for us and we just need to pass the data and the requirment of what we want. \n",
    "\n",
    "They will do everything, from applying gradient descent to get the parameters and it doesn't matter how many of them are there. \n"
   ]
  },
  {
   "cell_type": "markdown",
   "metadata": {},
   "source": [
    "In python this is done by **sk-learn** library. It has all the functions to do machine learning. \n",
    "\n",
    "First let's see what is sk-learn. \n",
    "\n",
    "This is the website  https://scikit-learn.org/stable/\n",
    "\n",
    "![](sklearn.png)"
   ]
  },
  {
   "cell_type": "markdown",
   "metadata": {},
   "source": [
    "So it has many of the algorithms. Now why should you use. Because of the code below"
   ]
  },
  {
   "cell_type": "code",
   "execution_count": null,
   "metadata": {
    "collapsed": true
   },
   "outputs": [],
   "source": [
    "from sklearn import linear_model \n",
    "import pandas as pd\n",
    "points = pd.read_csv('linear_regression_live/data.csv', header=None, names=[\"x\",\"y\"])\n",
    "\n",
    "# print(points)\n",
    "X = points.x.values.reshape(-1,1)\n",
    "Y = points.y"
   ]
  },
  {
   "cell_type": "code",
   "execution_count": 27,
   "metadata": {},
   "outputs": [
    {
     "name": "stdout",
     "output_type": "stream",
     "text": [
      "[1.32243102] 7.991020982270399\n"
     ]
    }
   ],
   "source": [
    "## Actual linear regression. \n",
    "\n",
    "reg = linear_model.LinearRegression()\n",
    "reg.fit(X,Y)\n",
    "print(reg.coef_, reg.intercept_)"
   ]
  },
  {
   "cell_type": "code",
   "execution_count": 29,
   "metadata": {},
   "outputs": [
    {
     "data": {
      "text/plain": [
       "[<matplotlib.lines.Line2D at 0x1a1f4ca048>]"
      ]
     },
     "execution_count": 29,
     "metadata": {},
     "output_type": "execute_result"
    },
    {
     "data": {
      "image/png": "[encoded data removed]",
      "text/plain": [
       "<Figure size 432x288 with 1 Axes>"
      ]
     },
     "metadata": {},
     "output_type": "display_data"
    }
   ],
   "source": [
    "import matplotlib.pyplot as plt\n",
    "%matplotlib inline\n",
    "data = pd.read_csv('linear_regression_live/data.csv', header=None, names=[\"x\",\"y\"])\n",
    "data.head()\n",
    "data.plot(kind=\"scatter\", x=\"x\", y=\"y\")\n",
    "axes = plt.gca()\n",
    "x_vals = np.array(axes.get_xlim())\n",
    "y_vals = reg.coef_ * x_vals + reg.intercept_\n",
    "plt.plot(x_vals, y_vals, '--', c=\"r\")"
   ]
  },
  {
   "cell_type": "markdown",
   "metadata": {},
   "source": [
    "These are the 3 lines which did all the work \n",
    "\n",
    "```\n",
    "## Actual linear regression. \n",
    "\n",
    "reg = linear_model.LinearRegression()\n",
    "reg.fit(X,Y)\n",
    "print(reg.coef_, reg.intercept_)\n",
    "```\n",
    "\n",
    "Also, 1 line is about printing. From 45 lines to 3 lines. \n",
    "\n",
    "That's the power of sklearn. This is how work is done in real world. We use libraries to help us reduce our work. \n",
    "\n",
    "It doesn't mean that what we did yesterday for 2 hours is wasted. It's not. If you don't know that , you can find the line but you will find situations where line will not work and then you need to go to basics. "
   ]
  },
  {
   "cell_type": "markdown",
   "metadata": {},
   "source": [
    "So that is the power of sk-learn. let's break each line 1 by 1 "
   ]
  },
  {
   "cell_type": "code",
   "execution_count": 30,
   "metadata": {
    "collapsed": true
   },
   "outputs": [],
   "source": [
    "from sklearn import linear_model \n",
    "\n"
   ]
  },
  {
   "cell_type": "markdown",
   "metadata": {},
   "source": [
    "The above line we are importing the linear_model module of sklearn library. \n",
    "`linear_model` module contains many algorithms which are linear in nature, e.g. Linear Regression, Logistic Regression and others. \n",
    "\n",
    "So we just imported the linear_model module. "
   ]
  },
  {
   "cell_type": "code",
   "execution_count": 31,
   "metadata": {
    "collapsed": true
   },
   "outputs": [],
   "source": [
    "reg = linear_model.LinearRegression()\n",
    "\n"
   ]
  },
  {
   "cell_type": "markdown",
   "metadata": {},
   "source": [
    "Here we are making an object of LinearRegression() class. sk-learn has a class for each of the algorithms present and some other helper classes. Since we are learning Linear Regression so we made an object of that class. "
   ]
  },
  {
   "cell_type": "code",
   "execution_count": 32,
   "metadata": {},
   "outputs": [
    {
     "data": {
      "text/plain": [
       "LinearRegression(copy_X=True, fit_intercept=True, n_jobs=None,\n",
       "         normalize=False)"
      ]
     },
     "execution_count": 32,
     "metadata": {},
     "output_type": "execute_result"
    }
   ],
   "source": [
    "reg.fit(X,Y)\n",
    "\n"
   ]
  },
  {
   "cell_type": "markdown",
   "metadata": {},
   "source": [
    "This is the important part of what we are doing. \n",
    "\n",
    "First X and y \n",
    "\n",
    "**X :  This is the input data in numpy array format. By input data I mean `age`. This has to be 2-D array format.**\n",
    "\n",
    "**Y : This is the output data in the numpy array format. E.g. `Income`**\n",
    "\n",
    "\n",
    "If we are doing the problem of only age and income and suppose there are 20 points \n",
    "\n",
    "**X** will be of shape **(20,1)**\n",
    "**Y** will be of shape **(20,) 1-D** \n",
    "\n",
    "Suppose we take a different problem finding income by many variable like age, education, family_income, college \n",
    "So we have 4 variables, so \n",
    "\n",
    "**X** will be of shape **(20,4)**\n",
    "**Y** will be of shape **(20,)**\n",
    "\n",
    "**So X will be in 2D always, and Y will be in 1-D for linear regression. **"
   ]
  },
  {
   "cell_type": "markdown",
   "metadata": {},
   "source": [
    "# Training  `fit()`\n",
    "\n",
    "What the fit function does is it takes the data and then trains using the algorithm provided to fit the line. \n",
    "\n",
    "We want the line's parameters. So .fit applies gradient descent on the data and calculates those values. \n",
    "\n",
    "This fit is common for all the algorithms in sklearn. No matter what algorithm you use you will always find the **fit()** method in that object. That's why sklearn is simple. The syntax is same for all the algorithms. \n",
    "\n",
    "Training the data is also called fitting the data is also called model training. \n",
    "\n",
    "All 3 are used interchangably. \n"
   ]
  },
  {
   "cell_type": "code",
   "execution_count": 34,
   "metadata": {},
   "outputs": [
    {
     "name": "stdout",
     "output_type": "stream",
     "text": [
      "[1.32243102] 7.991020982270399\n"
     ]
    }
   ],
   "source": [
    "print(reg.coef_, reg.intercept_)\n",
    "\n"
   ]
  },
  {
   "cell_type": "markdown",
   "metadata": {},
   "source": [
    "### Results\n",
    "\n",
    "Once the data is trained or gradient descent is run then we get the results. We get the results in 2 parts \n",
    "\n",
    "**coef__** : This contains the coefficients (not the intercept for all the variables). Since we have only 1 variable so we have 1 coefficient. If have multiple like `college, family, education` We will have more. \n",
    "\n",
    "**intercept__** : This is the intercept or **C** or **w0**. \n",
    "\n"
   ]
  },
  {
   "cell_type": "markdown",
   "metadata": {},
   "source": [
    "### Process \n",
    "\n",
    "In simple words we have 3 tasks to do with sklearn\n",
    "\n",
    "1. Load and pre process the data for input to algorithm \n",
    "2. Train the model / Fit the data \n",
    "3. View Results. "
   ]
  },
  {
   "cell_type": "markdown",
   "metadata": {
    "collapsed": true
   },
   "source": [
    "## Is our model Good?\n",
    "\n",
    "So we have made the line and and line passes through center.\n",
    "\n",
    "**But is our model good?** \n",
    "\n",
    "What is meant by goodness? \n",
    "\n",
    "Goodness means that our model can interpret the data. It can explain the data. \n",
    "\n",
    "Linear regression assumes that there is a linear relationship between our independent and dependent variable? \n",
    "\n",
    "Suppose there is a linear relationship and income is a function of age, education, college and family_income. \n",
    "\n",
    "Suppose that function is something like \n",
    "\n",
    "```\n",
    "income = 2.3*age + 1.2*eduction + 2*college + .7 * family_income\n",
    "```\n",
    "\n",
    "This is the real function on which the income works. \n",
    "\n",
    "But we don't have the real function. We have data of around 100 people. We pass that data to linear Regression and it tells that from the data I can see the function as \n",
    "\n",
    "```\n",
    "income = 1.5*age + 0.5*education + 1.3*college + 4*family_income\n",
    "```\n",
    "\n",
    "So our original and function from data is different. \n",
    "\n",
    "or in mathematical terms \n",
    "\n",
    "$$y \\neq \\hat y$$\n",
    "\n",
    "\n",
    "as mentioned earlier $\\hat{}$ means predicted function / value\n",
    "\n",
    "Now our model will be perfect if  $$y = \\hat{y}$$    but that will not be the case as we have only some of the data points. \n",
    "\n",
    "So goodness means, how far we are from the original function. But since we do not know the original function so we cannot compare ours with original. \n",
    "\n",
    "What we have is data. We can check, how good our function explains the data. Can it explain the full data e.g., if all the data points are colinear then did we get a line which passes through all the points. \n",
    "\n",
    "In that case we can say, our function explains all the data.\n",
    "\n",
    "If it passes through 90% of the data then we can explain 90% of the data. \n",
    "\n"
   ]
  },
  {
   "cell_type": "markdown",
   "metadata": {},
   "source": [
    "What we have done here? For linear regression, if there is no error (remember error was our criteria to check if line is good) we can say we can explain the full data.\n",
    "\n",
    "We need to formalize this in someway and that's were R-sqaured comes in picture.\n",
    "\n",
    "\n",
    "### What is R-squared?"
   ]
  },
  {
   "cell_type": "markdown",
   "metadata": {},
   "source": [
    "So we have a line, and we have original data points. What can we do?\n",
    "\n",
    "We can check how far the original value is from the predicted data point. \n",
    "\n",
    "What is predicted data point? Suppose you have age 20, income 10000. You found a line on which when age is 20, income comes to 18000. \n",
    "\n",
    "So we can take all the original values and predicted values. \n",
    "\n",
    "If the difference between the original and predicted is small, then we can say we have good fit of a model. \n",
    "\n",
    "Here is the formula of R-Squared. \n",
    "\n",
    "$$R^2 = \\frac{\\text{Variance Explained By the model}}{\\text{Total Variance}}$$\n",
    "\n",
    "\n",
    "Total Variance , we kno how to calculate it's \n",
    "\n",
    "$$\\sum (x - \\bar{x})^2$$\n",
    "\n",
    "Or we subtract each original value by mean, square it and sum all values \n",
    "\n",
    "In our case it will be \n",
    "\n",
    "$$\\text{Total Variance} = \\sum(income -\\text{mean_income})^2$$\n",
    "\n",
    "That is total variance, our denominator\n",
    "\n",
    "Similary for Explained variance it will be \n",
    "\n",
    "$$\\text{Model Explained Variance} = \\sum(\\hat{income} - \\text{income})^2$$\n",
    "\n",
    "Then we will just divide them as per formula and we have our result. \n",
    "\n",
    "Let's do this "
   ]
  },
  {
   "cell_type": "code",
   "execution_count": 1,
   "metadata": {},
   "outputs": [
    {
     "name": "stdout",
     "output_type": "stream",
     "text": [
      "[1.32243102] 7.991020982270399\n"
     ]
    }
   ],
   "source": [
    "from sklearn import linear_model \n",
    "import pandas as pd\n",
    "points = pd.read_csv('linear_regression_live/data.csv', header=None, names=[\"x\",\"y\"])\n",
    "\n",
    "# print(points)\n",
    "X = points.x.values.reshape(-1,1)\n",
    "Y = points.y\n",
    "\n",
    "## Actual linear regression. \n",
    "\n",
    "reg = linear_model.LinearRegression()\n",
    "reg.fit(X,Y)\n",
    "print(reg.coef_, reg.intercept_)"
   ]
  },
  {
   "cell_type": "markdown",
   "metadata": {},
   "source": [
    "We will do all the calculation in dataframe only as it's faster. Suppose `y` is income"
   ]
  },
  {
   "cell_type": "code",
   "execution_count": 3,
   "metadata": {},
   "outputs": [
    {
     "data": {
      "text/html": [
       "<div>\n",
       "<style scoped>\n",
       "    .dataframe tbody tr th:only-of-type {\n",
       "        vertical-align: middle;\n",
       "    }\n",
       "\n",
       "    .dataframe tbody tr th {\n",
       "        vertical-align: top;\n",
       "    }\n",
       "\n",
       "    .dataframe thead th {\n",
       "        text-align: right;\n",
       "    }\n",
       "</style>\n",
       "<table border=\"1\" class=\"dataframe\">\n",
       "  <thead>\n",
       "    <tr style=\"text-align: right;\">\n",
       "      <th></th>\n",
       "      <th>x</th>\n",
       "      <th>y</th>\n",
       "    </tr>\n",
       "  </thead>\n",
       "  <tbody>\n",
       "    <tr>\n",
       "      <th>0</th>\n",
       "      <td>32.502345</td>\n",
       "      <td>31.707006</td>\n",
       "    </tr>\n",
       "    <tr>\n",
       "      <th>1</th>\n",
       "      <td>53.426804</td>\n",
       "      <td>68.777596</td>\n",
       "    </tr>\n",
       "    <tr>\n",
       "      <th>2</th>\n",
       "      <td>61.530358</td>\n",
       "      <td>62.562382</td>\n",
       "    </tr>\n",
       "    <tr>\n",
       "      <th>3</th>\n",
       "      <td>47.475640</td>\n",
       "      <td>71.546632</td>\n",
       "    </tr>\n",
       "    <tr>\n",
       "      <th>4</th>\n",
       "      <td>59.813208</td>\n",
       "      <td>87.230925</td>\n",
       "    </tr>\n",
       "  </tbody>\n",
       "</table>\n",
       "</div>"
      ],
      "text/plain": [
       "           x          y\n",
       "0  32.502345  31.707006\n",
       "1  53.426804  68.777596\n",
       "2  61.530358  62.562382\n",
       "3  47.475640  71.546632\n",
       "4  59.813208  87.230925"
      ]
     },
     "execution_count": 3,
     "metadata": {},
     "output_type": "execute_result"
    }
   ],
   "source": [
    "points.head()"
   ]
  },
  {
   "cell_type": "code",
   "execution_count": 6,
   "metadata": {},
   "outputs": [
    {
     "data": {
      "text/html": [
       "<div>\n",
       "<style scoped>\n",
       "    .dataframe tbody tr th:only-of-type {\n",
       "        vertical-align: middle;\n",
       "    }\n",
       "\n",
       "    .dataframe tbody tr th {\n",
       "        vertical-align: top;\n",
       "    }\n",
       "\n",
       "    .dataframe thead th {\n",
       "        text-align: right;\n",
       "    }\n",
       "</style>\n",
       "<table border=\"1\" class=\"dataframe\">\n",
       "  <thead>\n",
       "    <tr style=\"text-align: right;\">\n",
       "      <th></th>\n",
       "      <th>x</th>\n",
       "      <th>y</th>\n",
       "      <th>mean_y</th>\n",
       "    </tr>\n",
       "  </thead>\n",
       "  <tbody>\n",
       "    <tr>\n",
       "      <th>0</th>\n",
       "      <td>32.502345</td>\n",
       "      <td>31.707006</td>\n",
       "      <td>72.735051</td>\n",
       "    </tr>\n",
       "    <tr>\n",
       "      <th>1</th>\n",
       "      <td>53.426804</td>\n",
       "      <td>68.777596</td>\n",
       "      <td>72.735051</td>\n",
       "    </tr>\n",
       "    <tr>\n",
       "      <th>2</th>\n",
       "      <td>61.530358</td>\n",
       "      <td>62.562382</td>\n",
       "      <td>72.735051</td>\n",
       "    </tr>\n",
       "    <tr>\n",
       "      <th>3</th>\n",
       "      <td>47.475640</td>\n",
       "      <td>71.546632</td>\n",
       "      <td>72.735051</td>\n",
       "    </tr>\n",
       "    <tr>\n",
       "      <th>4</th>\n",
       "      <td>59.813208</td>\n",
       "      <td>87.230925</td>\n",
       "      <td>72.735051</td>\n",
       "    </tr>\n",
       "  </tbody>\n",
       "</table>\n",
       "</div>"
      ],
      "text/plain": [
       "           x          y     mean_y\n",
       "0  32.502345  31.707006  72.735051\n",
       "1  53.426804  68.777596  72.735051\n",
       "2  61.530358  62.562382  72.735051\n",
       "3  47.475640  71.546632  72.735051\n",
       "4  59.813208  87.230925  72.735051"
      ]
     },
     "execution_count": 6,
     "metadata": {},
     "output_type": "execute_result"
    }
   ],
   "source": [
    "points['mean_y'] = points.y.mean()\n",
    "points.head()"
   ]
  },
  {
   "cell_type": "code",
   "execution_count": 8,
   "metadata": {},
   "outputs": [
    {
     "data": {
      "text/html": [
       "<div>\n",
       "<style scoped>\n",
       "    .dataframe tbody tr th:only-of-type {\n",
       "        vertical-align: middle;\n",
       "    }\n",
       "\n",
       "    .dataframe tbody tr th {\n",
       "        vertical-align: top;\n",
       "    }\n",
       "\n",
       "    .dataframe thead th {\n",
       "        text-align: right;\n",
       "    }\n",
       "</style>\n",
       "<table border=\"1\" class=\"dataframe\">\n",
       "  <thead>\n",
       "    <tr style=\"text-align: right;\">\n",
       "      <th></th>\n",
       "      <th>x</th>\n",
       "      <th>y</th>\n",
       "      <th>mean_y</th>\n",
       "      <th>y - mean_y</th>\n",
       "      <th>y - mean_y sqr</th>\n",
       "    </tr>\n",
       "  </thead>\n",
       "  <tbody>\n",
       "    <tr>\n",
       "      <th>0</th>\n",
       "      <td>32.502345</td>\n",
       "      <td>31.707006</td>\n",
       "      <td>72.735051</td>\n",
       "      <td>-41.028045</td>\n",
       "      <td>1683.300452</td>\n",
       "    </tr>\n",
       "    <tr>\n",
       "      <th>1</th>\n",
       "      <td>53.426804</td>\n",
       "      <td>68.777596</td>\n",
       "      <td>72.735051</td>\n",
       "      <td>-3.957455</td>\n",
       "      <td>15.661447</td>\n",
       "    </tr>\n",
       "    <tr>\n",
       "      <th>2</th>\n",
       "      <td>61.530358</td>\n",
       "      <td>62.562382</td>\n",
       "      <td>72.735051</td>\n",
       "      <td>-10.172668</td>\n",
       "      <td>103.483179</td>\n",
       "    </tr>\n",
       "    <tr>\n",
       "      <th>3</th>\n",
       "      <td>47.475640</td>\n",
       "      <td>71.546632</td>\n",
       "      <td>72.735051</td>\n",
       "      <td>-1.188418</td>\n",
       "      <td>1.412338</td>\n",
       "    </tr>\n",
       "    <tr>\n",
       "      <th>4</th>\n",
       "      <td>59.813208</td>\n",
       "      <td>87.230925</td>\n",
       "      <td>72.735051</td>\n",
       "      <td>14.495875</td>\n",
       "      <td>210.130380</td>\n",
       "    </tr>\n",
       "  </tbody>\n",
       "</table>\n",
       "</div>"
      ],
      "text/plain": [
       "           x          y     mean_y  y - mean_y  y - mean_y sqr\n",
       "0  32.502345  31.707006  72.735051  -41.028045     1683.300452\n",
       "1  53.426804  68.777596  72.735051   -3.957455       15.661447\n",
       "2  61.530358  62.562382  72.735051  -10.172668      103.483179\n",
       "3  47.475640  71.546632  72.735051   -1.188418        1.412338\n",
       "4  59.813208  87.230925  72.735051   14.495875      210.130380"
      ]
     },
     "execution_count": 8,
     "metadata": {},
     "output_type": "execute_result"
    }
   ],
   "source": [
    "points['y - mean_y sqr'] = (points.y - points.mean_y)**2\n",
    "points.head()"
   ]
  },
  {
   "cell_type": "code",
   "execution_count": 9,
   "metadata": {
    "collapsed": true
   },
   "outputs": [],
   "source": [
    "total_variance = points['y - mean_y sqr'].sum()"
   ]
  },
  {
   "cell_type": "code",
   "execution_count": 10,
   "metadata": {},
   "outputs": [
    {
     "data": {
      "text/plain": [
       "array([ 50.97313068,  78.64428408,  89.36067528,  70.77427966,\n",
       "        87.08986264,  80.9127616 ,  77.03752068,  59.96198716,\n",
       "        71.60662047,  77.48479033,  68.05548117,  79.86730909,\n",
       "        66.39493013,  84.9148112 ,  83.00884075,  72.73180677,\n",
       "        67.0867556 ,  87.7300766 ,  68.31853072,  59.3235847 ,\n",
       "        95.52248785,  94.4992372 ,  70.78164424,  62.97194057,\n",
       "        76.55270453,  86.50483786,  83.77954744,  92.11821271,\n",
       "        69.79829882,  74.84884901,  77.05365354,  55.02702285,\n",
       "        64.11033459,  84.90961325,  84.03668646,  68.0829885 ,\n",
       "        89.84450605,  51.75533073,  56.17513031,  57.81447577,\n",
       "        66.91273975,  65.27646179,  74.20930217,  66.00688013,\n",
       "        91.30084388,  51.19357794,  61.10897432,  78.84036556,\n",
       "        52.77410942,  93.56174855,  58.40185886,  66.84255791,\n",
       "        61.68111005,  63.16373769,  75.55221639,  80.82800368,\n",
       "        62.7102102 ,  90.63594762,  73.05976831,  62.34648699,\n",
       "        62.45139666,  74.35905937,  77.25790319,  74.29174233,\n",
       "        52.48382396,  60.30361675,  82.21958847,  83.84837825,\n",
       "        87.69289981,  55.17283917,  49.76412685,  78.95390252,\n",
       "        69.72504836,  64.99813976, 101.0188537 ,  66.82975389,\n",
       "        84.03679977,  56.82849996,  81.79025402,  59.50601609,\n",
       "        83.23895254,  83.19621945,  53.3942102 ,  86.08023065,\n",
       "        84.41196114,  79.77565645,  75.55232909,  74.48660368,\n",
       "        66.45799985,  58.25065736,  51.55253356,  78.99451081,\n",
       "        98.92896128,  69.12828529,  98.33866318,  74.1524756 ,\n",
       "        73.10721422,  74.16490857,  71.66588812,  41.22170864])"
      ]
     },
     "execution_count": 10,
     "metadata": {},
     "output_type": "execute_result"
    }
   ],
   "source": [
    "reg.predict(X)"
   ]
  },
  {
   "cell_type": "code",
   "execution_count": 12,
   "metadata": {},
   "outputs": [
    {
     "data": {
      "text/html": [
       "<div>\n",
       "<style scoped>\n",
       "    .dataframe tbody tr th:only-of-type {\n",
       "        vertical-align: middle;\n",
       "    }\n",
       "\n",
       "    .dataframe tbody tr th {\n",
       "        vertical-align: top;\n",
       "    }\n",
       "\n",
       "    .dataframe thead th {\n",
       "        text-align: right;\n",
       "    }\n",
       "</style>\n",
       "<table border=\"1\" class=\"dataframe\">\n",
       "  <thead>\n",
       "    <tr style=\"text-align: right;\">\n",
       "      <th></th>\n",
       "      <th>x</th>\n",
       "      <th>y</th>\n",
       "      <th>mean_y</th>\n",
       "      <th>y - mean_y</th>\n",
       "      <th>y - mean_y sqr</th>\n",
       "      <th>predict_value</th>\n",
       "    </tr>\n",
       "  </thead>\n",
       "  <tbody>\n",
       "    <tr>\n",
       "      <th>0</th>\n",
       "      <td>32.502345</td>\n",
       "      <td>31.707006</td>\n",
       "      <td>72.735051</td>\n",
       "      <td>-41.028045</td>\n",
       "      <td>1683.300452</td>\n",
       "      <td>50.973131</td>\n",
       "    </tr>\n",
       "    <tr>\n",
       "      <th>1</th>\n",
       "      <td>53.426804</td>\n",
       "      <td>68.777596</td>\n",
       "      <td>72.735051</td>\n",
       "      <td>-3.957455</td>\n",
       "      <td>15.661447</td>\n",
       "      <td>78.644284</td>\n",
       "    </tr>\n",
       "    <tr>\n",
       "      <th>2</th>\n",
       "      <td>61.530358</td>\n",
       "      <td>62.562382</td>\n",
       "      <td>72.735051</td>\n",
       "      <td>-10.172668</td>\n",
       "      <td>103.483179</td>\n",
       "      <td>89.360675</td>\n",
       "    </tr>\n",
       "    <tr>\n",
       "      <th>3</th>\n",
       "      <td>47.475640</td>\n",
       "      <td>71.546632</td>\n",
       "      <td>72.735051</td>\n",
       "      <td>-1.188418</td>\n",
       "      <td>1.412338</td>\n",
       "      <td>70.774280</td>\n",
       "    </tr>\n",
       "    <tr>\n",
       "      <th>4</th>\n",
       "      <td>59.813208</td>\n",
       "      <td>87.230925</td>\n",
       "      <td>72.735051</td>\n",
       "      <td>14.495875</td>\n",
       "      <td>210.130380</td>\n",
       "      <td>87.089863</td>\n",
       "    </tr>\n",
       "  </tbody>\n",
       "</table>\n",
       "</div>"
      ],
      "text/plain": [
       "           x          y     mean_y  y - mean_y  y - mean_y sqr  predict_value\n",
       "0  32.502345  31.707006  72.735051  -41.028045     1683.300452      50.973131\n",
       "1  53.426804  68.777596  72.735051   -3.957455       15.661447      78.644284\n",
       "2  61.530358  62.562382  72.735051  -10.172668      103.483179      89.360675\n",
       "3  47.475640  71.546632  72.735051   -1.188418        1.412338      70.774280\n",
       "4  59.813208  87.230925  72.735051   14.495875      210.130380      87.089863"
      ]
     },
     "execution_count": 12,
     "metadata": {},
     "output_type": "execute_result"
    }
   ],
   "source": [
    "points['predict_value'] = reg.predict(X)\n",
    "points.head()"
   ]
  },
  {
   "cell_type": "code",
   "execution_count": 13,
   "metadata": {},
   "outputs": [
    {
     "data": {
      "text/html": [
       "<div>\n",
       "<style scoped>\n",
       "    .dataframe tbody tr th:only-of-type {\n",
       "        vertical-align: middle;\n",
       "    }\n",
       "\n",
       "    .dataframe tbody tr th {\n",
       "        vertical-align: top;\n",
       "    }\n",
       "\n",
       "    .dataframe thead th {\n",
       "        text-align: right;\n",
       "    }\n",
       "</style>\n",
       "<table border=\"1\" class=\"dataframe\">\n",
       "  <thead>\n",
       "    <tr style=\"text-align: right;\">\n",
       "      <th></th>\n",
       "      <th>x</th>\n",
       "      <th>y</th>\n",
       "      <th>mean_y</th>\n",
       "      <th>y - mean_y</th>\n",
       "      <th>y - mean_y sqr</th>\n",
       "      <th>predict_value</th>\n",
       "      <th>predict_value - original</th>\n",
       "    </tr>\n",
       "  </thead>\n",
       "  <tbody>\n",
       "    <tr>\n",
       "      <th>0</th>\n",
       "      <td>32.502345</td>\n",
       "      <td>31.707006</td>\n",
       "      <td>72.735051</td>\n",
       "      <td>-41.028045</td>\n",
       "      <td>1683.300452</td>\n",
       "      <td>50.973131</td>\n",
       "      <td>371.183566</td>\n",
       "    </tr>\n",
       "    <tr>\n",
       "      <th>1</th>\n",
       "      <td>53.426804</td>\n",
       "      <td>68.777596</td>\n",
       "      <td>72.735051</td>\n",
       "      <td>-3.957455</td>\n",
       "      <td>15.661447</td>\n",
       "      <td>78.644284</td>\n",
       "      <td>97.351534</td>\n",
       "    </tr>\n",
       "    <tr>\n",
       "      <th>2</th>\n",
       "      <td>61.530358</td>\n",
       "      <td>62.562382</td>\n",
       "      <td>72.735051</td>\n",
       "      <td>-10.172668</td>\n",
       "      <td>103.483179</td>\n",
       "      <td>89.360675</td>\n",
       "      <td>718.148507</td>\n",
       "    </tr>\n",
       "    <tr>\n",
       "      <th>3</th>\n",
       "      <td>47.475640</td>\n",
       "      <td>71.546632</td>\n",
       "      <td>72.735051</td>\n",
       "      <td>-1.188418</td>\n",
       "      <td>1.412338</td>\n",
       "      <td>70.774280</td>\n",
       "      <td>0.596528</td>\n",
       "    </tr>\n",
       "    <tr>\n",
       "      <th>4</th>\n",
       "      <td>59.813208</td>\n",
       "      <td>87.230925</td>\n",
       "      <td>72.735051</td>\n",
       "      <td>14.495875</td>\n",
       "      <td>210.130380</td>\n",
       "      <td>87.089863</td>\n",
       "      <td>0.019899</td>\n",
       "    </tr>\n",
       "  </tbody>\n",
       "</table>\n",
       "</div>"
      ],
      "text/plain": [
       "           x          y     mean_y  y - mean_y  y - mean_y sqr  predict_value  \\\n",
       "0  32.502345  31.707006  72.735051  -41.028045     1683.300452      50.973131   \n",
       "1  53.426804  68.777596  72.735051   -3.957455       15.661447      78.644284   \n",
       "2  61.530358  62.562382  72.735051  -10.172668      103.483179      89.360675   \n",
       "3  47.475640  71.546632  72.735051   -1.188418        1.412338      70.774280   \n",
       "4  59.813208  87.230925  72.735051   14.495875      210.130380      87.089863   \n",
       "\n",
       "   predict_value - original  \n",
       "0                371.183566  \n",
       "1                 97.351534  \n",
       "2                718.148507  \n",
       "3                  0.596528  \n",
       "4                  0.019899  "
      ]
     },
     "execution_count": 13,
     "metadata": {},
     "output_type": "execute_result"
    }
   ],
   "source": [
    "points['predict_value - original'] = (points.predict_value - points.y) ** 2\n",
    "points.head()"
   ]
  },
  {
   "cell_type": "code",
   "execution_count": 15,
   "metadata": {},
   "outputs": [
    {
     "data": {
      "text/plain": [
       "11025.738346621316"
      ]
     },
     "execution_count": 15,
     "metadata": {},
     "output_type": "execute_result"
    }
   ],
   "source": [
    "model_variance = points['predict_value - original'].sum()\n",
    "model_variance"
   ]
  },
  {
   "cell_type": "code",
   "execution_count": 17,
   "metadata": {},
   "outputs": [
    {
     "name": "stdout",
     "output_type": "stream",
     "text": [
      "0.4013442084613381\n"
     ]
    }
   ],
   "source": [
    "R_squared = model_variance / total_variance\n",
    "print(R_squared)"
   ]
  },
  {
   "cell_type": "markdown",
   "metadata": {},
   "source": [
    "This tells, that our model can only explain 40% of the data. \n",
    "\n",
    "Or our model is about to learn only 40% function from the original function. \n",
    "\n",
    "This can be done with sklearn also"
   ]
  },
  {
   "cell_type": "code",
   "execution_count": 20,
   "metadata": {},
   "outputs": [
    {
     "name": "stdout",
     "output_type": "stream",
     "text": [
      "0.5986557915386619\n"
     ]
    }
   ],
   "source": [
    "from sklearn.metrics import r2_score \n",
    "\n",
    "print(r2_score(Y,reg.predict(X)))"
   ]
  },
  {
   "cell_type": "markdown",
   "metadata": {},
   "source": [
    "[Shit](https://github.com/scikit-learn/scikit-learn/blob/95d4f0841/sklearn/metrics/_regression.py#L600)\n",
    "\n",
    "[Okaayyy](https://en.wikipedia.org/wiki/Coefficient_of_determination)\n",
    "\n",
    "[Fine](https://stackoverflow.com/questions/23036866/scikit-learn-is-returning-coefficient-of-determination-r2-values-less-than-1)\n",
    "\n",
    "[For interview and more Read this](https://statisticsbyjim.com/regression/interpret-r-squared-regression/)"
   ]
  },
  {
   "cell_type": "markdown",
   "metadata": {},
   "source": [
    "# Anscombe’s quartet"
   ]
  },
  {
   "cell_type": "code",
   "execution_count": 21,
   "metadata": {
    "collapsed": true
   },
   "outputs": [],
   "source": [
    "import seaborn as sns\n",
    "sns.set(style=\"ticks\")\n",
    "\n",
    "# Load the example dataset for Anscombe's quartet\n",
    "df = sns.load_dataset(\"anscombe\")"
   ]
  },
  {
   "cell_type": "code",
   "execution_count": 22,
   "metadata": {},
   "outputs": [
    {
     "data": {
      "text/html": [
       "<div>\n",
       "<style scoped>\n",
       "    .dataframe tbody tr th:only-of-type {\n",
       "        vertical-align: middle;\n",
       "    }\n",
       "\n",
       "    .dataframe tbody tr th {\n",
       "        vertical-align: top;\n",
       "    }\n",
       "\n",
       "    .dataframe thead th {\n",
       "        text-align: right;\n",
       "    }\n",
       "</style>\n",
       "<table border=\"1\" class=\"dataframe\">\n",
       "  <thead>\n",
       "    <tr style=\"text-align: right;\">\n",
       "      <th></th>\n",
       "      <th>dataset</th>\n",
       "      <th>x</th>\n",
       "      <th>y</th>\n",
       "    </tr>\n",
       "  </thead>\n",
       "  <tbody>\n",
       "    <tr>\n",
       "      <th>0</th>\n",
       "      <td>I</td>\n",
       "      <td>10.0</td>\n",
       "      <td>8.04</td>\n",
       "    </tr>\n",
       "    <tr>\n",
       "      <th>1</th>\n",
       "      <td>I</td>\n",
       "      <td>8.0</td>\n",
       "      <td>6.95</td>\n",
       "    </tr>\n",
       "    <tr>\n",
       "      <th>2</th>\n",
       "      <td>I</td>\n",
       "      <td>13.0</td>\n",
       "      <td>7.58</td>\n",
       "    </tr>\n",
       "    <tr>\n",
       "      <th>3</th>\n",
       "      <td>I</td>\n",
       "      <td>9.0</td>\n",
       "      <td>8.81</td>\n",
       "    </tr>\n",
       "    <tr>\n",
       "      <th>4</th>\n",
       "      <td>I</td>\n",
       "      <td>11.0</td>\n",
       "      <td>8.33</td>\n",
       "    </tr>\n",
       "    <tr>\n",
       "      <th>5</th>\n",
       "      <td>I</td>\n",
       "      <td>14.0</td>\n",
       "      <td>9.96</td>\n",
       "    </tr>\n",
       "    <tr>\n",
       "      <th>6</th>\n",
       "      <td>I</td>\n",
       "      <td>6.0</td>\n",
       "      <td>7.24</td>\n",
       "    </tr>\n",
       "    <tr>\n",
       "      <th>7</th>\n",
       "      <td>I</td>\n",
       "      <td>4.0</td>\n",
       "      <td>4.26</td>\n",
       "    </tr>\n",
       "    <tr>\n",
       "      <th>8</th>\n",
       "      <td>I</td>\n",
       "      <td>12.0</td>\n",
       "      <td>10.84</td>\n",
       "    </tr>\n",
       "    <tr>\n",
       "      <th>9</th>\n",
       "      <td>I</td>\n",
       "      <td>7.0</td>\n",
       "      <td>4.82</td>\n",
       "    </tr>\n",
       "    <tr>\n",
       "      <th>10</th>\n",
       "      <td>I</td>\n",
       "      <td>5.0</td>\n",
       "      <td>5.68</td>\n",
       "    </tr>\n",
       "    <tr>\n",
       "      <th>11</th>\n",
       "      <td>II</td>\n",
       "      <td>10.0</td>\n",
       "      <td>9.14</td>\n",
       "    </tr>\n",
       "    <tr>\n",
       "      <th>12</th>\n",
       "      <td>II</td>\n",
       "      <td>8.0</td>\n",
       "      <td>8.14</td>\n",
       "    </tr>\n",
       "    <tr>\n",
       "      <th>13</th>\n",
       "      <td>II</td>\n",
       "      <td>13.0</td>\n",
       "      <td>8.74</td>\n",
       "    </tr>\n",
       "    <tr>\n",
       "      <th>14</th>\n",
       "      <td>II</td>\n",
       "      <td>9.0</td>\n",
       "      <td>8.77</td>\n",
       "    </tr>\n",
       "    <tr>\n",
       "      <th>15</th>\n",
       "      <td>II</td>\n",
       "      <td>11.0</td>\n",
       "      <td>9.26</td>\n",
       "    </tr>\n",
       "    <tr>\n",
       "      <th>16</th>\n",
       "      <td>II</td>\n",
       "      <td>14.0</td>\n",
       "      <td>8.10</td>\n",
       "    </tr>\n",
       "    <tr>\n",
       "      <th>17</th>\n",
       "      <td>II</td>\n",
       "      <td>6.0</td>\n",
       "      <td>6.13</td>\n",
       "    </tr>\n",
       "    <tr>\n",
       "      <th>18</th>\n",
       "      <td>II</td>\n",
       "      <td>4.0</td>\n",
       "      <td>3.10</td>\n",
       "    </tr>\n",
       "    <tr>\n",
       "      <th>19</th>\n",
       "      <td>II</td>\n",
       "      <td>12.0</td>\n",
       "      <td>9.13</td>\n",
       "    </tr>\n",
       "    <tr>\n",
       "      <th>20</th>\n",
       "      <td>II</td>\n",
       "      <td>7.0</td>\n",
       "      <td>7.26</td>\n",
       "    </tr>\n",
       "    <tr>\n",
       "      <th>21</th>\n",
       "      <td>II</td>\n",
       "      <td>5.0</td>\n",
       "      <td>4.74</td>\n",
       "    </tr>\n",
       "    <tr>\n",
       "      <th>22</th>\n",
       "      <td>III</td>\n",
       "      <td>10.0</td>\n",
       "      <td>7.46</td>\n",
       "    </tr>\n",
       "    <tr>\n",
       "      <th>23</th>\n",
       "      <td>III</td>\n",
       "      <td>8.0</td>\n",
       "      <td>6.77</td>\n",
       "    </tr>\n",
       "    <tr>\n",
       "      <th>24</th>\n",
       "      <td>III</td>\n",
       "      <td>13.0</td>\n",
       "      <td>12.74</td>\n",
       "    </tr>\n",
       "    <tr>\n",
       "      <th>25</th>\n",
       "      <td>III</td>\n",
       "      <td>9.0</td>\n",
       "      <td>7.11</td>\n",
       "    </tr>\n",
       "    <tr>\n",
       "      <th>26</th>\n",
       "      <td>III</td>\n",
       "      <td>11.0</td>\n",
       "      <td>7.81</td>\n",
       "    </tr>\n",
       "    <tr>\n",
       "      <th>27</th>\n",
       "      <td>III</td>\n",
       "      <td>14.0</td>\n",
       "      <td>8.84</td>\n",
       "    </tr>\n",
       "    <tr>\n",
       "      <th>28</th>\n",
       "      <td>III</td>\n",
       "      <td>6.0</td>\n",
       "      <td>6.08</td>\n",
       "    </tr>\n",
       "    <tr>\n",
       "      <th>29</th>\n",
       "      <td>III</td>\n",
       "      <td>4.0</td>\n",
       "      <td>5.39</td>\n",
       "    </tr>\n",
       "    <tr>\n",
       "      <th>30</th>\n",
       "      <td>III</td>\n",
       "      <td>12.0</td>\n",
       "      <td>8.15</td>\n",
       "    </tr>\n",
       "    <tr>\n",
       "      <th>31</th>\n",
       "      <td>III</td>\n",
       "      <td>7.0</td>\n",
       "      <td>6.42</td>\n",
       "    </tr>\n",
       "    <tr>\n",
       "      <th>32</th>\n",
       "      <td>III</td>\n",
       "      <td>5.0</td>\n",
       "      <td>5.73</td>\n",
       "    </tr>\n",
       "    <tr>\n",
       "      <th>33</th>\n",
       "      <td>IV</td>\n",
       "      <td>8.0</td>\n",
       "      <td>6.58</td>\n",
       "    </tr>\n",
       "    <tr>\n",
       "      <th>34</th>\n",
       "      <td>IV</td>\n",
       "      <td>8.0</td>\n",
       "      <td>5.76</td>\n",
       "    </tr>\n",
       "    <tr>\n",
       "      <th>35</th>\n",
       "      <td>IV</td>\n",
       "      <td>8.0</td>\n",
       "      <td>7.71</td>\n",
       "    </tr>\n",
       "    <tr>\n",
       "      <th>36</th>\n",
       "      <td>IV</td>\n",
       "      <td>8.0</td>\n",
       "      <td>8.84</td>\n",
       "    </tr>\n",
       "    <tr>\n",
       "      <th>37</th>\n",
       "      <td>IV</td>\n",
       "      <td>8.0</td>\n",
       "      <td>8.47</td>\n",
       "    </tr>\n",
       "    <tr>\n",
       "      <th>38</th>\n",
       "      <td>IV</td>\n",
       "      <td>8.0</td>\n",
       "      <td>7.04</td>\n",
       "    </tr>\n",
       "    <tr>\n",
       "      <th>39</th>\n",
       "      <td>IV</td>\n",
       "      <td>8.0</td>\n",
       "      <td>5.25</td>\n",
       "    </tr>\n",
       "    <tr>\n",
       "      <th>40</th>\n",
       "      <td>IV</td>\n",
       "      <td>19.0</td>\n",
       "      <td>12.50</td>\n",
       "    </tr>\n",
       "    <tr>\n",
       "      <th>41</th>\n",
       "      <td>IV</td>\n",
       "      <td>8.0</td>\n",
       "      <td>5.56</td>\n",
       "    </tr>\n",
       "    <tr>\n",
       "      <th>42</th>\n",
       "      <td>IV</td>\n",
       "      <td>8.0</td>\n",
       "      <td>7.91</td>\n",
       "    </tr>\n",
       "    <tr>\n",
       "      <th>43</th>\n",
       "      <td>IV</td>\n",
       "      <td>8.0</td>\n",
       "      <td>6.89</td>\n",
       "    </tr>\n",
       "  </tbody>\n",
       "</table>\n",
       "</div>"
      ],
      "text/plain": [
       "   dataset     x      y\n",
       "0        I  10.0   8.04\n",
       "1        I   8.0   6.95\n",
       "2        I  13.0   7.58\n",
       "3        I   9.0   8.81\n",
       "4        I  11.0   8.33\n",
       "5        I  14.0   9.96\n",
       "6        I   6.0   7.24\n",
       "7        I   4.0   4.26\n",
       "8        I  12.0  10.84\n",
       "9        I   7.0   4.82\n",
       "10       I   5.0   5.68\n",
       "11      II  10.0   9.14\n",
       "12      II   8.0   8.14\n",
       "13      II  13.0   8.74\n",
       "14      II   9.0   8.77\n",
       "15      II  11.0   9.26\n",
       "16      II  14.0   8.10\n",
       "17      II   6.0   6.13\n",
       "18      II   4.0   3.10\n",
       "19      II  12.0   9.13\n",
       "20      II   7.0   7.26\n",
       "21      II   5.0   4.74\n",
       "22     III  10.0   7.46\n",
       "23     III   8.0   6.77\n",
       "24     III  13.0  12.74\n",
       "25     III   9.0   7.11\n",
       "26     III  11.0   7.81\n",
       "27     III  14.0   8.84\n",
       "28     III   6.0   6.08\n",
       "29     III   4.0   5.39\n",
       "30     III  12.0   8.15\n",
       "31     III   7.0   6.42\n",
       "32     III   5.0   5.73\n",
       "33      IV   8.0   6.58\n",
       "34      IV   8.0   5.76\n",
       "35      IV   8.0   7.71\n",
       "36      IV   8.0   8.84\n",
       "37      IV   8.0   8.47\n",
       "38      IV   8.0   7.04\n",
       "39      IV   8.0   5.25\n",
       "40      IV  19.0  12.50\n",
       "41      IV   8.0   5.56\n",
       "42      IV   8.0   7.91\n",
       "43      IV   8.0   6.89"
      ]
     },
     "execution_count": 22,
     "metadata": {},
     "output_type": "execute_result"
    }
   ],
   "source": [
    "df"
   ]
  },
  {
   "cell_type": "code",
   "execution_count": 25,
   "metadata": {},
   "outputs": [
    {
     "data": {
      "text/plain": [
       "<seaborn.axisgrid.FacetGrid at 0x1a1f7f54e0>"
      ]
     },
     "execution_count": 25,
     "metadata": {},
     "output_type": "execute_result"
    },
    {
     "data": {
      "image/png": "[encoded data removed]",
      "text/plain": [
       "<Figure size 576x576 with 4 Axes>"
      ]
     },
     "metadata": {},
     "output_type": "display_data"
    }
   ],
   "source": [
    "%matplotlib inline\n",
    "sns.lmplot(x=\"x\", y=\"y\", col=\"dataset\", hue=\"dataset\", data=df,\n",
    "           col_wrap=2, ci=None, palette=\"muted\", height=4,\n",
    "           scatter_kws={\"s\": 50, \"alpha\": 1})"
   ]
  },
  {
   "cell_type": "markdown",
   "metadata": {},
   "source": [
    " Assignment : Find their R^2 value \n",
    " ------"
   ]
  },
  {
   "cell_type": "code",
   "execution_count": null,
   "metadata": {
    "collapsed": true
   },
   "outputs": [],
   "source": []
  }
 ],
 "metadata": {
  "kernelspec": {
   "display_name": "Python 3",
   "language": "python",
   "name": "python3"
  },
  "language_info": {
   "codemirror_mode": {
    "name": "ipython",
    "version": 3
   },
   "file_extension": ".py",
   "mimetype": "text/x-python",
   "name": "python",
   "nbconvert_exporter": "python",
   "pygments_lexer": "ipython3",
   "version": "3.5.6"
  },
  "toc": {
   "base_numbering": 1,
   "nav_menu": {},
   "number_sections": true,
   "sideBar": true,
   "skip_h1_title": false,
   "title_cell": "Table of Contents",
   "title_sidebar": "Contents",
   "toc_cell": false,
   "toc_position": {},
   "toc_section_display": true,
   "toc_window_display": false
  }
 },
 "nbformat": 4,
 "nbformat_minor": 2
}
